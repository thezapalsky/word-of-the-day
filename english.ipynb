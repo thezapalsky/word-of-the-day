{
 "cells": [
  {
   "cell_type": "code",
   "execution_count": 1,
   "metadata": {},
   "outputs": [],
   "source": [
    "import requests\n",
    "from bs4 import BeautifulSoup"
   ]
  },
  {
   "cell_type": "code",
   "execution_count": 2,
   "metadata": {},
   "outputs": [],
   "source": [
    "def get_url(url):\n",
    "    try:\n",
    "        r = requests.get(url)\n",
    "    except Exception as e:\n",
    "        print(e)\n",
    "        return None\n",
    "    else:\n",
    "        return r.text"
   ]
  },
  {
   "cell_type": "code",
   "execution_count": 28,
   "metadata": {},
   "outputs": [],
   "source": [
    "def get_slowo_dnia_eng():\n",
    "    url_clean='https://www.dictionary.com/e/word-of-the-day/'\n",
    "    bs = BeautifulSoup(get_url(url_clean))\n",
    "    out = bs.findAll(\"div\", {\"class\": \"wotd-item-headword__word\"})\n",
    "    out2 = bs.findAll(\"div\", {\"class\": \"wotd-item-headword__pronunciation\"})\n",
    "    out3 = bs.findAll(\"div\", {\"class\": \"wotd-item-headword__pos\"})\n",
    "\n",
    "    word = out[0].text.strip()\n",
    "    pronon = out2[0].text.strip()\n",
    "    partofspeech = out3[0].text.strip().split('\\n\\n')[0]\n",
    "    definition = out3[0].text.strip().split('\\n\\n')[1]\n",
    "\n",
    "    return word, pronon, partofspeech, definition "
   ]
  },
  {
   "cell_type": "code",
   "execution_count": 29,
   "metadata": {},
   "outputs": [
    {
     "data": {
      "text/plain": [
       "('sedentary',\n",
       " '[ sed-n-ter-ee ]',\n",
       " 'adjective ',\n",
       " 'accustomed to sit or rest a great deal or to take little exercise.')"
      ]
     },
     "execution_count": 29,
     "metadata": {},
     "output_type": "execute_result"
    }
   ],
   "source": [
    "get_slowo_dnia_eng()"
   ]
  }
 ],
 "metadata": {
  "kernelspec": {
   "display_name": "Python 3",
   "language": "python",
   "name": "python3"
  },
  "language_info": {
   "codemirror_mode": {
    "name": "ipython",
    "version": 3
   },
   "file_extension": ".py",
   "mimetype": "text/x-python",
   "name": "python",
   "nbconvert_exporter": "python",
   "pygments_lexer": "ipython3",
   "version": "3.7.5"
  }
 },
 "nbformat": 4,
 "nbformat_minor": 4
}
