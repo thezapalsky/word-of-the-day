{
 "cells": [
  {
   "cell_type": "code",
   "execution_count": 1,
   "metadata": {},
   "outputs": [],
   "source": [
    "import pandas as pd\n",
    "import requests\n",
    "from bs4 import BeautifulSoup\n",
    "import re\n",
    "import time"
   ]
  },
  {
   "cell_type": "code",
   "execution_count": 3,
   "metadata": {},
   "outputs": [],
   "source": [
    "def get_url(url):\n",
    "    try:\n",
    "        r = requests.get(url)\n",
    "    except Exception as e:\n",
    "        print(e)\n",
    "        return None\n",
    "    else:\n",
    "        return r.text"
   ]
  },
  {
   "cell_type": "code",
   "execution_count": 12,
   "metadata": {},
   "outputs": [],
   "source": [
    "url_clean='https://sjp.pwn.pl/'\n",
    "bs = BeautifulSoup(get_url(url_clean))\n",
    "\n",
    "out = bs.findAll(\"div\", {\"class\": \"sjp-slowo-dnia\"})\n",
    "\n",
    "slowo_dnia = out[0].a.text\n",
    "slowo_dnia_href = out[0].a['href']"
   ]
  },
  {
   "cell_type": "code",
   "execution_count": 36,
   "metadata": {},
   "outputs": [
    {
     "data": {
      "text/plain": [
       "[<div class=\"znacz\">\n",
       " <b>1. </b>«będący wyrazem wysokiego poziomu umysłowego, artystycznego, technicznego itp.; też: o kimś reprezentującym taki poziom»</div>,\n",
       " <div class=\"znacz\">\n",
       " <b>2. </b>«przejawiający się lub odbywający na wiele wymyślnych sposobów; też: o kimś zachowującym się w taki sposób»</div>,\n",
       " <div class=\"znacz\">\n",
       " <b>1. </b>«cecha tego, co jest wyrafinowane»</div>,\n",
       " <div class=\"znacz\">\n",
       " <b>2. </b>«dążenie do osiągnięcia własnych celów, nawet kosztem innych, zachowując pozory szlachetności»</div>]"
      ]
     },
     "execution_count": 36,
     "metadata": {},
     "output_type": "execute_result"
    }
   ],
   "source": [
    "bs = BeautifulSoup(get_url(slowo_dnia_href))\n",
    "bs.findAll(\"div\", {\"class\": \"znacz\"})"
   ]
  },
  {
   "cell_type": "code",
   "execution_count": 33,
   "metadata": {},
   "outputs": [],
   "source": []
  },
  {
   "cell_type": "code",
   "execution_count": 32,
   "metadata": {},
   "outputs": [],
   "source": []
  }
 ],
 "metadata": {
  "kernelspec": {
   "display_name": "Python 3",
   "language": "python",
   "name": "python3"
  },
  "language_info": {
   "codemirror_mode": {
    "name": "ipython",
    "version": 3
   },
   "file_extension": ".py",
   "mimetype": "text/x-python",
   "name": "python",
   "nbconvert_exporter": "python",
   "pygments_lexer": "ipython3",
   "version": "3.7.5"
  }
 },
 "nbformat": 4,
 "nbformat_minor": 4
}
