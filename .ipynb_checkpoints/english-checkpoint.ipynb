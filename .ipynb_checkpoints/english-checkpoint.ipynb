{
 "cells": [
  {
   "cell_type": "code",
   "execution_count": 1,
   "metadata": {},
   "outputs": [],
   "source": [
    "import requests\n",
    "from bs4 import BeautifulSoup"
   ]
  },
  {
   "cell_type": "code",
   "execution_count": 2,
   "metadata": {},
   "outputs": [],
   "source": [
    "def get_url(url):\n",
    "    try:\n",
    "        r = requests.get(url)\n",
    "    except Exception as e:\n",
    "        print(e)\n",
    "        return None\n",
    "    else:\n",
    "        return r.text"
   ]
  },
  {
   "cell_type": "code",
   "execution_count": 3,
   "metadata": {},
   "outputs": [],
   "source": [
    "def get_slowo_dnia():\n",
    "    url_clean='https://www.dictionary.com/e/word-of-the-day/'\n",
    "    bs = BeautifulSoup(get_url(url_clean))\n",
    "    out = bs.findAll(\"div\", {\"class\": \"wotd-item-headword\"})\n",
    "    slowo_dnia = out[0].a.text\n",
    "    slowo_dnia_href = out[0].a['href']\n",
    "    return slowo_dnia, slowo_dnia_href"
   ]
  },
  {
   "cell_type": "code",
   "execution_count": 5,
   "metadata": {},
   "outputs": [
    {
     "data": {
      "text/plain": [
       "<div class=\"wotd-item-headword\">\n",
       "<div class=\"wotd-item-headword__socials\">\n",
       "<div class=\"wotd-socials\">\n",
       "<ul>\n",
       "<li>\n",
       "<a data-linkid=\"begyaa\" href=\"https://facebook.com/sharer/sharer.php?u=https%3A%2F%2Fwww.dictionary.com%2Fe%2Fword-of-the-day%2Fsedentary-2020-05-02%2F\" target=\"_blank\">\n",
       "<i aria-hidden=\"true\" class=\"fa fa-facebook\"></i>\n",
       "</a>\n",
       "</li>\n",
       "<li>\n",
       "<a data-linkid=\"agbu2i\" href=\"https://twitter.com/intent/tweet/?text=Today's%20%23WordOftheDay%20on%20@Dictionarycom%20is%20sedentary&amp;url=https://www.dictionary.com/e/word-of-the-day/sedentary-2020-05-02/\" target=\"_blank\">\n",
       "<i aria-hidden=\"true\" class=\"fa fa-twitter\"></i>\n",
       "</a>\n",
       "</li>\n",
       "<li>\n",
       "<a data-linkid=\"r0ond7\" href=\"https://pinterest.com/pin/create/button/?url=https://www.dictionary.com/e/word-of-the-day/sedentary-2020-05-02/&amp;media=https://www.dictionary.com/e/wp-content/uploads/2020/04/20200502_sedentary.png&amp;description=Word%20of%20the%20Day%20-%20sedentary%20%23DictionaryCom\" target=\"_blank\">\n",
       "<i aria-hidden=\"true\" class=\"fa fa-pinterest-p\"></i>\n",
       "</a>\n",
       "</li>\n",
       "<li>\n",
       "<a data-linkid=\"m52euo\" href=\"mailto:?subject=Word%20of%20the%20Day%20-%20sedentary%20|%20Dictionary.com&amp;body=I%20discovered%20the%20Word%20of%20the%20Day%20from%20Dictionary.com%2C%20and%20I%20wanted%20to%20share%20it%20with%20you.%20https://www.dictionary.com/e/word-of-the-day/sedentary-2020-05-02/\" target=\"_blank\">\n",
       "<i aria-hidden=\"true\" class=\"fa fa-envelope\"></i>\n",
       "</a>\n",
       "</li>\n",
       "</ul>\n",
       "</div><!-- /.share -->\n",
       "</div>\n",
       "<div class=\"wotd-item-headword__date\">\n",
       "<div>Saturday, May 02, 2020</div>\n",
       "</div>\n",
       "<div class=\"wotd-item-headword__word\">\n",
       "<h1 style=\"color: #11AC4A\">sedentary</h1>\n",
       "</div>\n",
       "<div class=\"wotd-item-headword__pronunciation\">\n",
       "<div>\n",
       "              [ <span class=\"bold\">sed</span>-n-ter-ee ]\n",
       "\n",
       "                              <a class=\"wotd-item-headword__pronunciation-audio\" href=\"https://static.sfdict.com/audio/S02/S0261600.mp3\"></a>\n",
       "</div>\n",
       "</div>\n",
       "<div class=\"wotd-item-headword__pos-blocks\">\n",
       "<div class=\"wotd-item-headword__pos\">\n",
       "<p>\n",
       "<span class=\"italic\">\n",
       "<span class=\"luna-pos\">adjective</span> </span>\n",
       "</p>\n",
       "<p>accustomed to sit or rest a great deal or to take little exercise.</p> </div>\n",
       "</div>\n",
       "<div class=\"wotd-item-headword__anchors\">\n",
       "<ul>\n",
       "<li>\n",
       "<a href=\"#wotd-origin-152689\">Origin</a>\n",
       "</li>\n",
       "<li>\n",
       "<a href=\"#wotd-examples-152689\">examples</a>\n",
       "</li>\n",
       "</ul>\n",
       "<a class=\"wotd-item-headword__anchors-link\" data-linkid=\"cks7jy\" href=\"https://www.dictionary.com/browse/sedentary\">\n",
       "            Look it up          </a>\n",
       "<div class=\"wotd-socials\">\n",
       "<ul>\n",
       "<li>\n",
       "<a data-linkid=\"begyaa\" href=\"https://facebook.com/sharer/sharer.php?u=https%3A%2F%2Fwww.dictionary.com%2Fe%2Fword-of-the-day%2Fsedentary-2020-05-02%2F\" target=\"_blank\">\n",
       "<i aria-hidden=\"true\" class=\"fa fa-facebook\"></i>\n",
       "</a>\n",
       "</li>\n",
       "<li>\n",
       "<a data-linkid=\"agbu2i\" href=\"https://twitter.com/intent/tweet/?text=Today's%20%23WordOftheDay%20on%20@Dictionarycom%20is%20sedentary&amp;url=https://www.dictionary.com/e/word-of-the-day/sedentary-2020-05-02/\" target=\"_blank\">\n",
       "<i aria-hidden=\"true\" class=\"fa fa-twitter\"></i>\n",
       "</a>\n",
       "</li>\n",
       "<li>\n",
       "<a data-linkid=\"r0ond7\" href=\"https://pinterest.com/pin/create/button/?url=https://www.dictionary.com/e/word-of-the-day/sedentary-2020-05-02/&amp;media=https://www.dictionary.com/e/wp-content/uploads/2020/04/20200502_sedentary.png&amp;description=Word%20of%20the%20Day%20-%20sedentary%20%23DictionaryCom\" target=\"_blank\">\n",
       "<i aria-hidden=\"true\" class=\"fa fa-pinterest-p\"></i>\n",
       "</a>\n",
       "</li>\n",
       "<li>\n",
       "<a data-linkid=\"m52euo\" href=\"mailto:?subject=Word%20of%20the%20Day%20-%20sedentary%20|%20Dictionary.com&amp;body=I%20discovered%20the%20Word%20of%20the%20Day%20from%20Dictionary.com%2C%20and%20I%20wanted%20to%20share%20it%20with%20you.%20https://www.dictionary.com/e/word-of-the-day/sedentary-2020-05-02/\" target=\"_blank\">\n",
       "<i aria-hidden=\"true\" class=\"fa fa-envelope\"></i>\n",
       "</a>\n",
       "</li>\n",
       "</ul>\n",
       "</div><!-- /.share -->\n",
       "</div>\n",
       "</div>"
      ]
     },
     "execution_count": 5,
     "metadata": {},
     "output_type": "execute_result"
    }
   ],
   "source": [
    "url_clean='https://www.dictionary.com/e/word-of-the-day/'\n",
    "bs = BeautifulSoup(get_url(url_clean))\n",
    "out = bs.findAll(\"div\", {\"class\": \"wotd-item-headword__word\"})\n",
    "\n",
    "out[0]"
   ]
  }
 ],
 "metadata": {
  "kernelspec": {
   "display_name": "Python 3",
   "language": "python",
   "name": "python3"
  },
  "language_info": {
   "codemirror_mode": {
    "name": "ipython",
    "version": 3
   },
   "file_extension": ".py",
   "mimetype": "text/x-python",
   "name": "python",
   "nbconvert_exporter": "python",
   "pygments_lexer": "ipython3",
   "version": "3.7.5"
  }
 },
 "nbformat": 4,
 "nbformat_minor": 4
}
