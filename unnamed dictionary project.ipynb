{
 "cells": [
  {
   "cell_type": "code",
   "execution_count": 1,
   "metadata": {},
   "outputs": [],
   "source": [
    "import pandas as pd\n",
    "import requests\n",
    "from bs4 import BeautifulSoup\n",
    "import re\n",
    "import time"
   ]
  },
  {
   "cell_type": "code",
   "execution_count": 77,
   "metadata": {},
   "outputs": [],
   "source": [
    "def get_url(url):\n",
    "    try:\n",
    "        r = requests.get(url)\n",
    "    except Exception as e:\n",
    "        print(e)\n",
    "        return None\n",
    "    else:\n",
    "        return r.text\n",
    "    \n",
    "def get_slowo_dnia():\n",
    "    url_clean='https://sjp.pwn.pl/'\n",
    "    bs = BeautifulSoup(get_url(url_clean))\n",
    "    out = bs.findAll(\"div\", {\"class\": \"sjp-slowo-dnia\"})\n",
    "    slowo_dnia = out[0].a.text\n",
    "    slowo_dnia_href = out[0].a['href']\n",
    "    return slowo_dnia, slowo_dnia_href\n",
    "\n",
    "def get_znaczenia_slowa(slowo_href):\n",
    "    bs = BeautifulSoup(get_url(slowo_href))\n",
    "    \n",
    "    output = bs.findAll(\"div\", {\"class\": \"znacz\"})\n",
    "    for item in output:\n",
    "        print(item.text)\n",
    "    output = bs.findAll(\"div\", {\"class\": \"ribbon-element type-187126\"})\n",
    "    for item in output:\n",
    "        print(item.text)"
   ]
  },
  {
   "cell_type": "code",
   "execution_count": 75,
   "metadata": {},
   "outputs": [],
   "source": [
    "slowo_dnia, slowo_dnia_href  = get_slowo_dnia()"
   ]
  },
  {
   "cell_type": "code",
   "execution_count": 81,
   "metadata": {},
   "outputs": [
    {
     "name": "stdout",
     "output_type": "stream",
     "text": [
      "Słowo dnia:  baczność\n",
      "\n",
      "baczność «komenda wzywająca do przyjęcia postawy wyprostowanej, z rękami przylegającymi do boków» \n",
      "\n",
      "na baczność «stojąc w pozycji wyprostowanej, z rękami opuszczonymi i przylegającymi ściśle do boków» \n"
     ]
    }
   ],
   "source": [
    "print('Słowo dnia: ', slowo_dnia)\n",
    "get_znaczenia_slowa(slowo_dnia_href)"
   ]
  },
  {
   "cell_type": "code",
   "execution_count": 64,
   "metadata": {},
   "outputs": [],
   "source": []
  }
 ],
 "metadata": {
  "kernelspec": {
   "display_name": "Python 3",
   "language": "python",
   "name": "python3"
  },
  "language_info": {
   "codemirror_mode": {
    "name": "ipython",
    "version": 3
   },
   "file_extension": ".py",
   "mimetype": "text/x-python",
   "name": "python",
   "nbconvert_exporter": "python",
   "pygments_lexer": "ipython3",
   "version": "3.7.5"
  }
 },
 "nbformat": 4,
 "nbformat_minor": 4
}
